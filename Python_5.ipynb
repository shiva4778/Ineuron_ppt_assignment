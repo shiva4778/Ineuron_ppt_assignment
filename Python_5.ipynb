{
 "cells": [
  {
   "cell_type": "code",
   "execution_count": 1,
   "id": "560bb8db",
   "metadata": {},
   "outputs": [
    {
     "data": {
      "text/plain": [
       "id                              int64\n",
       "url                            object\n",
       "name                           object\n",
       "season                          int64\n",
       "number                          int64\n",
       "type                           object\n",
       "airdate                datetime64[ns]\n",
       "airtime                        object\n",
       "runtime                       float64\n",
       "summary                        object\n",
       "average rating                float64\n",
       "medium image link              object\n",
       "Original image link            object\n",
       "dtype: object"
      ]
     },
     "execution_count": 1,
     "metadata": {},
     "output_type": "execute_result"
    }
   ],
   "source": [
    "url = 'http://api.tvmaze.com/singlesearch/shows?q=westworld&embed=episodes'\n",
    "import requests\n",
    "import pandas as pd\n",
    "import json\n",
    "import csv\n",
    "from datetime import datetime\n",
    "from bs4 import BeautifulSoup\n",
    "class episode:\n",
    "\n",
    "    def __init__(self,url):\n",
    "        self.url=url\n",
    "    def data_download(self):\n",
    "        response = requests.get(self.url)\n",
    "        data = json.loads(response.text)\n",
    "        data1=data['_embedded']['episodes']\n",
    "        return data1\n",
    "    def csv_file(self):\n",
    "        data1=self.data_download()\n",
    "        \n",
    "        csv_file=open('df.csv','w')\n",
    "        csv_writer=csv.writer(csv_file) #creating the object of the csv file\n",
    "        count=0\n",
    "        \n",
    "        for i in data1:\n",
    "            \n",
    "            if count==0:\n",
    "                header=i.keys()\n",
    "                csv_writer.writerow(header)\n",
    "                count+=1\n",
    "            csv_writer.writerow(i.values())\n",
    "        csv_file.close()\n",
    "        df1=pd.read_csv('df.csv')\n",
    "        return df1\n",
    "    def date_time(self):\n",
    "        df=self.csv_file()\n",
    "        df['airtime'] = pd.to_datetime(df['airtime'])\n",
    "        df['airtime'] = df['airtime'].dt.strftime(\"%I:%M %p\")\n",
    "        # Convert time string to time format in 12-hour format\n",
    "        df['airtime'] = df['airtime'].apply(lambda x: datetime.strptime(x, '%I:%M %p').strftime('%I:%M %p'))\n",
    "        df['airdate']=pd.to_datetime(df['airdate'])\n",
    "        df['runtime']=df['runtime'].astype(float) # Changing the datatype to float\n",
    "        # Getting the average rating from rating column\n",
    "        for i in df['rating']:\n",
    "            df['average rating']=eval(i)['average']\n",
    "        # Creating a new column for medium & original image link\n",
    "        for i in df['image']:\n",
    "            a=eval(i)\n",
    "            df['medium image link']=a['medium']\n",
    "            df['Original image link']=a['original']\n",
    "        \n",
    "        return df\n",
    "            \n",
    "    def extract_summary(self):\n",
    "        df=self.date_time()\n",
    "        def extract_summary(html):\n",
    "            \n",
    "            soup = BeautifulSoup(html, 'html.parser')\n",
    "            summary_tag = soup.find('p')\n",
    "            if summary_tag:\n",
    "                return summary_tag.get_text()\n",
    "            else:\n",
    "                return \"\"\n",
    "\n",
    "        # Applying function to extract summaries\n",
    "        df['summary'] = df['summary'].apply(extract_summary)\n",
    "        df=df.drop(columns=['airstamp','rating','_links','image'])\n",
    "        \n",
    "        return df\n",
    "url = 'http://api.tvmaze.com/singlesearch/shows?q=westworld&embed=episodes'\n",
    "a=episode(url)\n",
    "df=a.extract_summary()\n",
    "df.dtypes\n"
   ]
  },
  {
   "cell_type": "code",
   "execution_count": null,
   "id": "129028d3",
   "metadata": {},
   "outputs": [],
   "source": []
  }
 ],
 "metadata": {
  "kernelspec": {
   "display_name": "Python 3 (ipykernel)",
   "language": "python",
   "name": "python3"
  },
  "language_info": {
   "codemirror_mode": {
    "name": "ipython",
    "version": 3
   },
   "file_extension": ".py",
   "mimetype": "text/x-python",
   "name": "python",
   "nbconvert_exporter": "python",
   "pygments_lexer": "ipython3",
   "version": "3.9.13"
  }
 },
 "nbformat": 4,
 "nbformat_minor": 5
}
