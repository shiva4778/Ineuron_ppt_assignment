{
 "cells": [
  {
   "cell_type": "code",
   "execution_count": 66,
   "id": "7d77cca3",
   "metadata": {},
   "outputs": [
    {
     "data": {
      "text/plain": [
       "id                              int64\n",
       "url                            object\n",
       "name                           object\n",
       "season                          int64\n",
       "number                          int64\n",
       "type                           object\n",
       "airdate                datetime64[ns]\n",
       "airtime                        object\n",
       "runtime                       float64\n",
       "summary                        object\n",
       "average rating                float64\n",
       "medium image link              object\n",
       "Original image link            object\n",
       "dtype: object"
      ]
     },
     "execution_count": 66,
     "metadata": {},
     "output_type": "execute_result"
    }
   ],
   "source": [
    "import requests\n",
    "import pandas as pd\n",
    "import json\n",
    "import csv\n",
    "from datetime import datetime\n",
    "from bs4 import BeautifulSoup\n",
    "class episode:\n",
    "\n",
    "    def __init__(self,url):\n",
    "        self.url=url\n",
    "    def data_download(self):\n",
    "        response = requests.get(self.url)\n",
    "        data = json.loads(response.text)\n",
    "        data1=data['_embedded']['episodes']\n",
    "        return data1\n",
    "    def csv_file(self):\n",
    "        data1=self.data_download()\n",
    "        \n",
    "        csv_file=open('df.csv','w')\n",
    "        csv_writer=csv.writer(csv_file) #creating the object of the csv file\n",
    "        count=0\n",
    "        \n",
    "        for i in data1:\n",
    "            \n",
    "            if count==0:\n",
    "                header=i.keys()\n",
    "                csv_writer.writerow(header)\n",
    "                count+=1\n",
    "            csv_writer.writerow(i.values())\n",
    "        csv_file.close()\n",
    "        df1=pd.read_csv('df.csv')\n",
    "        #print(df1)\n",
    "        return df1\n",
    "    def date_time(self):\n",
    "        df=self.csv_file()\n",
    "        df['airtime'] = pd.to_datetime(df['airtime'])\n",
    "        df['airtime'] = df['airtime'].dt.strftime(\"%I:%M %p\")\n",
    "        # Convert time string to time format in 12-hour format\n",
    "        df['airtime'] = df['airtime'].apply(lambda x: datetime.strptime(x, '%I:%M %p').strftime('%I:%M %p'))\n",
    "        df['airdate']=pd.to_datetime(df['airdate'])\n",
    "        df['runtime']=df['runtime'].astype(float) # Changing the datatype to float\n",
    "        # Getting the average rating from rating column\n",
    "        def evaluate(i):\n",
    "            k=eval(i)['average']\n",
    "            return k\n",
    "        df['average rating']=df['rating'].apply(evaluate)\n",
    "        # Creating a new column for medium & original image link\n",
    "        for i in df['image']:\n",
    "            a=eval(i)\n",
    "            df['medium image link']=a['medium']\n",
    "            df['Original image link']=a['original']\n",
    "        \n",
    "        return df\n",
    "            \n",
    "    def extract_summary(self):\n",
    "        df=self.date_time()\n",
    "        def extract_summary(html):\n",
    "            \n",
    "            soup = BeautifulSoup(html, 'html.parser')\n",
    "            summary_tag = soup.find('p')\n",
    "            if summary_tag:\n",
    "                return summary_tag.get_text()\n",
    "            else:\n",
    "                return \"\"\n",
    "\n",
    "        # Applying function to extract summaries\n",
    "        df['summary'] = df['summary'].apply(extract_summary)\n",
    "        df=df.drop(columns=['airstamp','rating','_links','image'])\n",
    "        \n",
    "        return df\n",
    "url = 'http://api.tvmaze.com/singlesearch/shows?q=westworld&embed=episodes'\n",
    "a=episode(url)\n",
    "df=a.extract_summary()\n",
    "df.dtypes\n",
    "            \n",
    "        \n",
    "        \n",
    "    \n",
    "    \n",
    "        \n",
    "        \n",
    "\n",
    "\n"
   ]
  },
  {
   "cell_type": "code",
   "execution_count": 67,
   "id": "81eb556c",
   "metadata": {},
   "outputs": [
    {
     "data": {
      "text/html": [
       "<div>\n",
       "<style scoped>\n",
       "    .dataframe tbody tr th:only-of-type {\n",
       "        vertical-align: middle;\n",
       "    }\n",
       "\n",
       "    .dataframe tbody tr th {\n",
       "        vertical-align: top;\n",
       "    }\n",
       "\n",
       "    .dataframe thead th {\n",
       "        text-align: right;\n",
       "    }\n",
       "</style>\n",
       "<table border=\"1\" class=\"dataframe\">\n",
       "  <thead>\n",
       "    <tr style=\"text-align: right;\">\n",
       "      <th></th>\n",
       "      <th>id</th>\n",
       "      <th>url</th>\n",
       "      <th>name</th>\n",
       "      <th>season</th>\n",
       "      <th>number</th>\n",
       "      <th>type</th>\n",
       "      <th>airdate</th>\n",
       "      <th>airtime</th>\n",
       "      <th>runtime</th>\n",
       "      <th>summary</th>\n",
       "      <th>average rating</th>\n",
       "      <th>medium image link</th>\n",
       "      <th>Original image link</th>\n",
       "    </tr>\n",
       "  </thead>\n",
       "  <tbody>\n",
       "    <tr>\n",
       "      <th>0</th>\n",
       "      <td>869671</td>\n",
       "      <td>https://www.tvmaze.com/episodes/869671/westwor...</td>\n",
       "      <td>The Original</td>\n",
       "      <td>1</td>\n",
       "      <td>1</td>\n",
       "      <td>regular</td>\n",
       "      <td>2016-10-02</td>\n",
       "      <td>09:00 PM</td>\n",
       "      <td>68.0</td>\n",
       "      <td>A woman named Dolores is a free spirit in the ...</td>\n",
       "      <td>8.0</td>\n",
       "      <td>https://static.tvmaze.com/uploads/images/mediu...</td>\n",
       "      <td>https://static.tvmaze.com/uploads/images/origi...</td>\n",
       "    </tr>\n",
       "    <tr>\n",
       "      <th>1</th>\n",
       "      <td>911201</td>\n",
       "      <td>https://www.tvmaze.com/episodes/911201/westwor...</td>\n",
       "      <td>Chestnut</td>\n",
       "      <td>1</td>\n",
       "      <td>2</td>\n",
       "      <td>regular</td>\n",
       "      <td>2016-10-09</td>\n",
       "      <td>09:00 PM</td>\n",
       "      <td>60.0</td>\n",
       "      <td>Bernard suspects that someone is sabotaging th...</td>\n",
       "      <td>7.7</td>\n",
       "      <td>https://static.tvmaze.com/uploads/images/mediu...</td>\n",
       "      <td>https://static.tvmaze.com/uploads/images/origi...</td>\n",
       "    </tr>\n",
       "    <tr>\n",
       "      <th>2</th>\n",
       "      <td>911204</td>\n",
       "      <td>https://www.tvmaze.com/episodes/911204/westwor...</td>\n",
       "      <td>The Stray</td>\n",
       "      <td>1</td>\n",
       "      <td>3</td>\n",
       "      <td>regular</td>\n",
       "      <td>2016-10-16</td>\n",
       "      <td>09:00 PM</td>\n",
       "      <td>60.0</td>\n",
       "      <td>Bernard continues to investigate Dolores' supp...</td>\n",
       "      <td>7.6</td>\n",
       "      <td>https://static.tvmaze.com/uploads/images/mediu...</td>\n",
       "      <td>https://static.tvmaze.com/uploads/images/origi...</td>\n",
       "    </tr>\n",
       "    <tr>\n",
       "      <th>3</th>\n",
       "      <td>911205</td>\n",
       "      <td>https://www.tvmaze.com/episodes/911205/westwor...</td>\n",
       "      <td>Dissonance Theory</td>\n",
       "      <td>1</td>\n",
       "      <td>4</td>\n",
       "      <td>regular</td>\n",
       "      <td>2016-10-23</td>\n",
       "      <td>09:00 PM</td>\n",
       "      <td>60.0</td>\n",
       "      <td>While Dolores joins William and Logan on their...</td>\n",
       "      <td>7.9</td>\n",
       "      <td>https://static.tvmaze.com/uploads/images/mediu...</td>\n",
       "      <td>https://static.tvmaze.com/uploads/images/origi...</td>\n",
       "    </tr>\n",
       "    <tr>\n",
       "      <th>4</th>\n",
       "      <td>927174</td>\n",
       "      <td>https://www.tvmaze.com/episodes/927174/westwor...</td>\n",
       "      <td>Contrapasso</td>\n",
       "      <td>1</td>\n",
       "      <td>5</td>\n",
       "      <td>regular</td>\n",
       "      <td>2016-10-30</td>\n",
       "      <td>09:00 PM</td>\n",
       "      <td>60.0</td>\n",
       "      <td>Dolores takes the first step on her path of di...</td>\n",
       "      <td>8.0</td>\n",
       "      <td>https://static.tvmaze.com/uploads/images/mediu...</td>\n",
       "      <td>https://static.tvmaze.com/uploads/images/origi...</td>\n",
       "    </tr>\n",
       "  </tbody>\n",
       "</table>\n",
       "</div>"
      ],
      "text/plain": [
       "       id                                                url  \\\n",
       "0  869671  https://www.tvmaze.com/episodes/869671/westwor...   \n",
       "1  911201  https://www.tvmaze.com/episodes/911201/westwor...   \n",
       "2  911204  https://www.tvmaze.com/episodes/911204/westwor...   \n",
       "3  911205  https://www.tvmaze.com/episodes/911205/westwor...   \n",
       "4  927174  https://www.tvmaze.com/episodes/927174/westwor...   \n",
       "\n",
       "                name  season  number     type    airdate   airtime  runtime  \\\n",
       "0       The Original       1       1  regular 2016-10-02  09:00 PM     68.0   \n",
       "1           Chestnut       1       2  regular 2016-10-09  09:00 PM     60.0   \n",
       "2          The Stray       1       3  regular 2016-10-16  09:00 PM     60.0   \n",
       "3  Dissonance Theory       1       4  regular 2016-10-23  09:00 PM     60.0   \n",
       "4        Contrapasso       1       5  regular 2016-10-30  09:00 PM     60.0   \n",
       "\n",
       "                                             summary  average rating  \\\n",
       "0  A woman named Dolores is a free spirit in the ...             8.0   \n",
       "1  Bernard suspects that someone is sabotaging th...             7.7   \n",
       "2  Bernard continues to investigate Dolores' supp...             7.6   \n",
       "3  While Dolores joins William and Logan on their...             7.9   \n",
       "4  Dolores takes the first step on her path of di...             8.0   \n",
       "\n",
       "                                   medium image link  \\\n",
       "0  https://static.tvmaze.com/uploads/images/mediu...   \n",
       "1  https://static.tvmaze.com/uploads/images/mediu...   \n",
       "2  https://static.tvmaze.com/uploads/images/mediu...   \n",
       "3  https://static.tvmaze.com/uploads/images/mediu...   \n",
       "4  https://static.tvmaze.com/uploads/images/mediu...   \n",
       "\n",
       "                                 Original image link  \n",
       "0  https://static.tvmaze.com/uploads/images/origi...  \n",
       "1  https://static.tvmaze.com/uploads/images/origi...  \n",
       "2  https://static.tvmaze.com/uploads/images/origi...  \n",
       "3  https://static.tvmaze.com/uploads/images/origi...  \n",
       "4  https://static.tvmaze.com/uploads/images/origi...  "
      ]
     },
     "execution_count": 67,
     "metadata": {},
     "output_type": "execute_result"
    }
   ],
   "source": [
    "df.head()"
   ]
  },
  {
   "cell_type": "code",
   "execution_count": 68,
   "id": "6dcec466",
   "metadata": {},
   "outputs": [],
   "source": [
    "#Overall ratings for each season and using plots compare the ratings for all the seasons,\\\n",
    "#like season 1 ratings, season 2, and so on.\n",
    "season_1=df[df['season']==1]\n",
    "season_2=df[df['season']==2]\n",
    "season_3=df[df['season']==3]\n",
    "season_4=df[df['season']==4]\n"
   ]
  },
  {
   "cell_type": "code",
   "execution_count": 69,
   "id": "21001b33",
   "metadata": {},
   "outputs": [],
   "source": [
    "s1=season_1['average rating'].mean()\n",
    "s2=season_2['average rating'].mean()\n",
    "s3=season_3['average rating'].mean()\n",
    "s4=season_4['average rating'].mean()"
   ]
  },
  {
   "cell_type": "code",
   "execution_count": 87,
   "id": "d74e67da",
   "metadata": {},
   "outputs": [
    {
     "data": {
      "text/plain": [
       "Text(0, 0.5, 'Avg rating')"
      ]
     },
     "execution_count": 87,
     "metadata": {},
     "output_type": "execute_result"
    },
    {
     "data": {
      "image/png": "[encoded data removed]",
      "text/plain": [
       "<Figure size 640x480 with 1 Axes>"
      ]
     },
     "metadata": {},
     "output_type": "display_data"
    }
   ],
   "source": [
    "# Comparing the rating of each season\n",
    "plt.bar(x=['s1','s2','s3','s4'],height=[s1,s2,s3,s4],color='r')\n",
    "plt.title('Average rating')\n",
    "plt.xlabel('Season')\n",
    "plt.ylabel('Avg rating')"
   ]
  },
  {
   "cell_type": "code",
   "execution_count": 88,
   "id": "fc9fc69d",
   "metadata": {},
   "outputs": [
    {
     "data": {
      "text/plain": [
       "6                Trompe L'Oeil\n",
       "8    The Well-Tempered Clavier\n",
       "9           The Bicameral Mind\n",
       "Name: name, dtype: object"
      ]
     },
     "execution_count": 88,
     "metadata": {},
     "output_type": "execute_result"
    }
   ],
   "source": [
    "#  Get all the episode names, whose average rating is more than 8 for every season\n",
    "#for season 1\n",
    "season_1[season_1['average rating']>8]['name']"
   ]
  },
  {
   "cell_type": "code",
   "execution_count": 89,
   "id": "23c87d2e",
   "metadata": {},
   "outputs": [
    {
     "data": {
      "text/plain": [
       "17            Kiksuya\n",
       "18    Vanishing Point\n",
       "19      The Passenger\n",
       "Name: name, dtype: object"
      ]
     },
     "execution_count": 89,
     "metadata": {},
     "output_type": "execute_result"
    }
   ],
   "source": [
    "#for season 2\n",
    "season_2[season_2['average rating']>8]['name']"
   ]
  },
  {
   "cell_type": "code",
   "execution_count": 90,
   "id": "630ef84b",
   "metadata": {},
   "outputs": [
    {
     "data": {
      "text/plain": [
       "Series([], Name: name, dtype: object)"
      ]
     },
     "execution_count": 90,
     "metadata": {},
     "output_type": "execute_result"
    }
   ],
   "source": [
    "#for season 3\n",
    "season_3[season_3['average rating']>8]['name']"
   ]
  },
  {
   "cell_type": "code",
   "execution_count": 91,
   "id": "4ddf1fbf",
   "metadata": {},
   "outputs": [
    {
     "data": {
      "text/plain": [
       "Series([], Name: name, dtype: object)"
      ]
     },
     "execution_count": 91,
     "metadata": {},
     "output_type": "execute_result"
    }
   ],
   "source": [
    "#for season 4\n",
    "season_4[season_4['average rating']>8]['name']"
   ]
  },
  {
   "cell_type": "code",
   "execution_count": 92,
   "id": "1ad6eb5f",
   "metadata": {},
   "outputs": [
    {
     "data": {
      "text/plain": [
       "10    Journey Into Night\n",
       "11               Reunion\n",
       "Name: name, dtype: object"
      ]
     },
     "execution_count": 92,
     "metadata": {},
     "output_type": "execute_result"
    }
   ],
   "source": [
    "# Get all the episode names that aired before May 2019\n",
    "df[(df['airdate'].dt.year<2019) & (df['airdate'].dt.month<5)]['name']"
   ]
  },
  {
   "cell_type": "code",
   "execution_count": 100,
   "id": "18cc9a07",
   "metadata": {},
   "outputs": [
    {
     "name": "stdout",
     "output_type": "stream",
     "text": [
      "9    The Bicameral Mind\n",
      "Name: name, dtype: object\n",
      "2    The Stray\n",
      "Name: name, dtype: object\n"
     ]
    }
   ],
   "source": [
    "#  Get the episode name from each season with the highest and lowest rating\n",
    "#For season 1\n",
    "print(season_1[season_1['average rating']==season_1['average rating'].max()]['name'])\n",
    "print(season_1[season_1['average rating']==season_1['average rating'].min()]['name'])"
   ]
  },
  {
   "cell_type": "code",
   "execution_count": 101,
   "id": "5a9b52c2",
   "metadata": {},
   "outputs": [
    {
     "name": "stdout",
     "output_type": "stream",
     "text": [
      "17    Kiksuya\n",
      "Name: name, dtype: object\n",
      "14    Akane No Mai\n",
      "Name: name, dtype: object\n"
     ]
    }
   ],
   "source": [
    "#  Get the episode name from each season with the highest and lowest rating\n",
    "# For season 2\n",
    "print(season_2[season_2['average rating']==season_2['average rating'].max()]['name'])\n",
    "print(season_2[season_2['average rating']==season_2['average rating'].min()]['name'])"
   ]
  },
  {
   "cell_type": "code",
   "execution_count": 102,
   "id": "fe85ff35",
   "metadata": {},
   "outputs": [
    {
     "name": "stdout",
     "output_type": "stream",
     "text": [
      "20            Parce Domine\n",
      "23    The Mother of Exiles\n",
      "Name: name, dtype: object\n",
      "25    Decoherence\n",
      "26    Passed Pawn\n",
      "Name: name, dtype: object\n"
     ]
    }
   ],
   "source": [
    "#  Get the episode name from each season with the highest and lowest rating\n",
    "# For season 3\n",
    "print(season_3[season_3['average rating']==season_3['average rating'].max()]['name'])\n",
    "print(season_3[season_3['average rating']==season_3['average rating'].min()]['name'])"
   ]
  },
  {
   "cell_type": "code",
   "execution_count": 103,
   "id": "42946ea8",
   "metadata": {},
   "outputs": [
    {
     "name": "stdout",
     "output_type": "stream",
     "text": [
      "32    Zhuangzi\n",
      "Name: name, dtype: object\n",
      "28    The Auguries\n",
      "Name: name, dtype: object\n"
     ]
    }
   ],
   "source": [
    "#  Get the episode name from each season with the highest and lowest rating\n",
    "# For season 4\n",
    "print(season_4[season_4['average rating']==season_4['average rating'].max()]['name'])\n",
    "print(season_4[season_4['average rating']==season_4['average rating'].min()]['name'])"
   ]
  },
  {
   "cell_type": "code",
   "execution_count": null,
   "id": "4f610587",
   "metadata": {},
   "outputs": [],
   "source": [
    "# Comparing the chart of each season with minimum and maximum rating"
   ]
  },
  {
   "cell_type": "code",
   "execution_count": 106,
   "id": "394f76ca",
   "metadata": {},
   "outputs": [
    {
     "data": {
      "image/png": "[encoded data removed]",
      "text/plain": [
       "<Figure size 640x480 with 2 Axes>"
      ]
     },
     "metadata": {},
     "output_type": "display_data"
    }
   ],
   "source": [
    "max1,min1=max(season_1[\"average rating\"]), min(season_1[\"average rating\"])\n",
    "max2,min2=max(season_2[\"average rating\"]),min(season_2[\"average rating\"])\n",
    "max3,min3=max(season_3[\"average rating\"]),min(season_3[\"average rating\"])\n",
    "max4,min4=max(season_4[\"average rating\"]),min(season_4[\"average rating\"])\n",
    "a=[(max1,min1),(max2,min2),(max3,min3),(max4,min4)]\n",
    "labels=['s1','s2','s3','s4']\n",
    "\n",
    "fig, (ax1, ax2) = plt.subplots(2)\n",
    "\n",
    "# Creating a bar plot for maximum values\n",
    "ax1.bar(labels, max_values)\n",
    "ax1.set_ylabel('Max Value')\n",
    "\n",
    "# Creating a bar plot for minimum values\n",
    "ax2.bar(labels, min_values)\n",
    "ax2.set_ylabel('Min Value')\n",
    "\n",
    "# Adjusting the layout and spacing\n",
    "fig.tight_layout()"
   ]
  },
  {
   "cell_type": "code",
   "execution_count": 107,
   "id": "a827a1c0",
   "metadata": {},
   "outputs": [
    {
     "data": {
      "image/png": "[encoded data removed]",
      "text/plain": [
       "<Figure size 640x480 with 1 Axes>"
      ]
     },
     "metadata": {},
     "output_type": "display_data"
    }
   ],
   "source": [
    "indices = np.arange(len(a))\n",
    "\n",
    "# Setting the width of each bar\n",
    "bar_width = 0.35\n",
    "\n",
    "# Creating a figure and a subplot\n",
    "fig, ax = plt.subplots()\n",
    "\n",
    "# Creating bar plots for maximum and minimum values\n",
    "ax.bar(indices, max_values, bar_width, label='Max Value')\n",
    "ax.bar(indices + bar_width, min_values, bar_width, label='Min Value')\n",
    "\n",
    "# Setting labels, title, and legend\n",
    "ax.set_xlabel('Comparison')\n",
    "ax.set_ylabel('Value')\n",
    "ax.set_title('Comparison of Max and Min Values')\n",
    "ax.set_xticks(indices + bar_width / 2)\n",
    "ax.set_xticklabels(labels)\n",
    "ax.legend()\n",
    "\n",
    "# Displaying the plot\n",
    "plt.show()"
   ]
  },
  {
   "cell_type": "code",
   "execution_count": 108,
   "id": "50089047",
   "metadata": {},
   "outputs": [
    {
     "data": {
      "text/html": [
       "<div>\n",
       "<style scoped>\n",
       "    .dataframe tbody tr th:only-of-type {\n",
       "        vertical-align: middle;\n",
       "    }\n",
       "\n",
       "    .dataframe tbody tr th {\n",
       "        vertical-align: top;\n",
       "    }\n",
       "\n",
       "    .dataframe thead th {\n",
       "        text-align: right;\n",
       "    }\n",
       "</style>\n",
       "<table border=\"1\" class=\"dataframe\">\n",
       "  <thead>\n",
       "    <tr style=\"text-align: right;\">\n",
       "      <th></th>\n",
       "      <th>id</th>\n",
       "      <th>url</th>\n",
       "      <th>name</th>\n",
       "      <th>season</th>\n",
       "      <th>number</th>\n",
       "      <th>type</th>\n",
       "      <th>airdate</th>\n",
       "      <th>airtime</th>\n",
       "      <th>runtime</th>\n",
       "      <th>summary</th>\n",
       "      <th>average rating</th>\n",
       "      <th>medium image link</th>\n",
       "      <th>Original image link</th>\n",
       "    </tr>\n",
       "  </thead>\n",
       "  <tbody>\n",
       "    <tr>\n",
       "      <th>0</th>\n",
       "      <td>869671</td>\n",
       "      <td>https://www.tvmaze.com/episodes/869671/westwor...</td>\n",
       "      <td>The Original</td>\n",
       "      <td>1</td>\n",
       "      <td>1</td>\n",
       "      <td>regular</td>\n",
       "      <td>2016-10-02</td>\n",
       "      <td>09:00 PM</td>\n",
       "      <td>68.0</td>\n",
       "      <td>A woman named Dolores is a free spirit in the ...</td>\n",
       "      <td>8.0</td>\n",
       "      <td>https://static.tvmaze.com/uploads/images/mediu...</td>\n",
       "      <td>https://static.tvmaze.com/uploads/images/origi...</td>\n",
       "    </tr>\n",
       "    <tr>\n",
       "      <th>4</th>\n",
       "      <td>927174</td>\n",
       "      <td>https://www.tvmaze.com/episodes/927174/westwor...</td>\n",
       "      <td>Contrapasso</td>\n",
       "      <td>1</td>\n",
       "      <td>5</td>\n",
       "      <td>regular</td>\n",
       "      <td>2016-10-30</td>\n",
       "      <td>09:00 PM</td>\n",
       "      <td>60.0</td>\n",
       "      <td>Dolores takes the first step on her path of di...</td>\n",
       "      <td>8.0</td>\n",
       "      <td>https://static.tvmaze.com/uploads/images/mediu...</td>\n",
       "      <td>https://static.tvmaze.com/uploads/images/origi...</td>\n",
       "    </tr>\n",
       "    <tr>\n",
       "      <th>5</th>\n",
       "      <td>932057</td>\n",
       "      <td>https://www.tvmaze.com/episodes/932057/westwor...</td>\n",
       "      <td>The Adversary</td>\n",
       "      <td>1</td>\n",
       "      <td>6</td>\n",
       "      <td>regular</td>\n",
       "      <td>2016-11-06</td>\n",
       "      <td>09:00 PM</td>\n",
       "      <td>60.0</td>\n",
       "      <td>While Maeve convinces Felix to show her \"upsta...</td>\n",
       "      <td>8.0</td>\n",
       "      <td>https://static.tvmaze.com/uploads/images/mediu...</td>\n",
       "      <td>https://static.tvmaze.com/uploads/images/origi...</td>\n",
       "    </tr>\n",
       "  </tbody>\n",
       "</table>\n",
       "</div>"
      ],
      "text/plain": [
       "       id                                                url           name  \\\n",
       "0  869671  https://www.tvmaze.com/episodes/869671/westwor...   The Original   \n",
       "4  927174  https://www.tvmaze.com/episodes/927174/westwor...    Contrapasso   \n",
       "5  932057  https://www.tvmaze.com/episodes/932057/westwor...  The Adversary   \n",
       "\n",
       "   season  number     type    airdate   airtime  runtime  \\\n",
       "0       1       1  regular 2016-10-02  09:00 PM     68.0   \n",
       "4       1       5  regular 2016-10-30  09:00 PM     60.0   \n",
       "5       1       6  regular 2016-11-06  09:00 PM     60.0   \n",
       "\n",
       "                                             summary  average rating  \\\n",
       "0  A woman named Dolores is a free spirit in the ...             8.0   \n",
       "4  Dolores takes the first step on her path of di...             8.0   \n",
       "5  While Maeve convinces Felix to show her \"upsta...             8.0   \n",
       "\n",
       "                                   medium image link  \\\n",
       "0  https://static.tvmaze.com/uploads/images/mediu...   \n",
       "4  https://static.tvmaze.com/uploads/images/mediu...   \n",
       "5  https://static.tvmaze.com/uploads/images/mediu...   \n",
       "\n",
       "                                 Original image link  \n",
       "0  https://static.tvmaze.com/uploads/images/origi...  \n",
       "4  https://static.tvmaze.com/uploads/images/origi...  \n",
       "5  https://static.tvmaze.com/uploads/images/origi...  "
      ]
     },
     "execution_count": 108,
     "metadata": {},
     "output_type": "execute_result"
    }
   ],
   "source": [
    "# ● Get the summary for the most popular ( ratings ) episode in every season\n",
    "#For season 1\n",
    "season_1[season_1['average rating']==mode(season_1['average rating'])]"
   ]
  },
  {
   "cell_type": "code",
   "execution_count": 109,
   "id": "787d6b8e",
   "metadata": {},
   "outputs": [
    {
     "data": {
      "text/html": [
       "<div>\n",
       "<style scoped>\n",
       "    .dataframe tbody tr th:only-of-type {\n",
       "        vertical-align: middle;\n",
       "    }\n",
       "\n",
       "    .dataframe tbody tr th {\n",
       "        vertical-align: top;\n",
       "    }\n",
       "\n",
       "    .dataframe thead th {\n",
       "        text-align: right;\n",
       "    }\n",
       "</style>\n",
       "<table border=\"1\" class=\"dataframe\">\n",
       "  <thead>\n",
       "    <tr style=\"text-align: right;\">\n",
       "      <th></th>\n",
       "      <th>id</th>\n",
       "      <th>url</th>\n",
       "      <th>name</th>\n",
       "      <th>season</th>\n",
       "      <th>number</th>\n",
       "      <th>type</th>\n",
       "      <th>airdate</th>\n",
       "      <th>airtime</th>\n",
       "      <th>runtime</th>\n",
       "      <th>summary</th>\n",
       "      <th>average rating</th>\n",
       "      <th>medium image link</th>\n",
       "      <th>Original image link</th>\n",
       "    </tr>\n",
       "  </thead>\n",
       "  <tbody>\n",
       "    <tr>\n",
       "      <th>11</th>\n",
       "      <td>1440915</td>\n",
       "      <td>https://www.tvmaze.com/episodes/1440915/westwo...</td>\n",
       "      <td>Reunion</td>\n",
       "      <td>2</td>\n",
       "      <td>2</td>\n",
       "      <td>regular</td>\n",
       "      <td>2018-04-29</td>\n",
       "      <td>09:00 PM</td>\n",
       "      <td>60.0</td>\n",
       "      <td>Dolores looks for allies sympathetic to her ca...</td>\n",
       "      <td>7.7</td>\n",
       "      <td>https://static.tvmaze.com/uploads/images/mediu...</td>\n",
       "      <td>https://static.tvmaze.com/uploads/images/origi...</td>\n",
       "    </tr>\n",
       "    <tr>\n",
       "      <th>12</th>\n",
       "      <td>1440916</td>\n",
       "      <td>https://www.tvmaze.com/episodes/1440916/westwo...</td>\n",
       "      <td>Virtù e Fortuna</td>\n",
       "      <td>2</td>\n",
       "      <td>3</td>\n",
       "      <td>regular</td>\n",
       "      <td>2018-05-06</td>\n",
       "      <td>09:00 PM</td>\n",
       "      <td>60.0</td>\n",
       "      <td>While Delores makes a deal with the Confederad...</td>\n",
       "      <td>7.7</td>\n",
       "      <td>https://static.tvmaze.com/uploads/images/mediu...</td>\n",
       "      <td>https://static.tvmaze.com/uploads/images/origi...</td>\n",
       "    </tr>\n",
       "    <tr>\n",
       "      <th>15</th>\n",
       "      <td>1453278</td>\n",
       "      <td>https://www.tvmaze.com/episodes/1453278/westwo...</td>\n",
       "      <td>Phase Space</td>\n",
       "      <td>2</td>\n",
       "      <td>6</td>\n",
       "      <td>regular</td>\n",
       "      <td>2018-05-27</td>\n",
       "      <td>09:00 PM</td>\n",
       "      <td>60.0</td>\n",
       "      <td>Maeve finds her daughter, Delores finds the \"r...</td>\n",
       "      <td>7.7</td>\n",
       "      <td>https://static.tvmaze.com/uploads/images/mediu...</td>\n",
       "      <td>https://static.tvmaze.com/uploads/images/origi...</td>\n",
       "    </tr>\n",
       "  </tbody>\n",
       "</table>\n",
       "</div>"
      ],
      "text/plain": [
       "         id                                                url  \\\n",
       "11  1440915  https://www.tvmaze.com/episodes/1440915/westwo...   \n",
       "12  1440916  https://www.tvmaze.com/episodes/1440916/westwo...   \n",
       "15  1453278  https://www.tvmaze.com/episodes/1453278/westwo...   \n",
       "\n",
       "               name  season  number     type    airdate   airtime  runtime  \\\n",
       "11          Reunion       2       2  regular 2018-04-29  09:00 PM     60.0   \n",
       "12  Virtù e Fortuna       2       3  regular 2018-05-06  09:00 PM     60.0   \n",
       "15      Phase Space       2       6  regular 2018-05-27  09:00 PM     60.0   \n",
       "\n",
       "                                              summary  average rating  \\\n",
       "11  Dolores looks for allies sympathetic to her ca...             7.7   \n",
       "12  While Delores makes a deal with the Confederad...             7.7   \n",
       "15  Maeve finds her daughter, Delores finds the \"r...             7.7   \n",
       "\n",
       "                                    medium image link  \\\n",
       "11  https://static.tvmaze.com/uploads/images/mediu...   \n",
       "12  https://static.tvmaze.com/uploads/images/mediu...   \n",
       "15  https://static.tvmaze.com/uploads/images/mediu...   \n",
       "\n",
       "                                  Original image link  \n",
       "11  https://static.tvmaze.com/uploads/images/origi...  \n",
       "12  https://static.tvmaze.com/uploads/images/origi...  \n",
       "15  https://static.tvmaze.com/uploads/images/origi...  "
      ]
     },
     "execution_count": 109,
     "metadata": {},
     "output_type": "execute_result"
    }
   ],
   "source": [
    "# ● Get the summary for the most popular ( ratings ) episode in every season\n",
    "# For season 2\n",
    "season_2[season_2['average rating']==mode(season_2['average rating'])]"
   ]
  },
  {
   "cell_type": "code",
   "execution_count": 110,
   "id": "bec38978",
   "metadata": {},
   "outputs": [
    {
     "data": {
      "text/html": [
       "<div>\n",
       "<style scoped>\n",
       "    .dataframe tbody tr th:only-of-type {\n",
       "        vertical-align: middle;\n",
       "    }\n",
       "\n",
       "    .dataframe tbody tr th {\n",
       "        vertical-align: top;\n",
       "    }\n",
       "\n",
       "    .dataframe thead th {\n",
       "        text-align: right;\n",
       "    }\n",
       "</style>\n",
       "<table border=\"1\" class=\"dataframe\">\n",
       "  <thead>\n",
       "    <tr style=\"text-align: right;\">\n",
       "      <th></th>\n",
       "      <th>id</th>\n",
       "      <th>url</th>\n",
       "      <th>name</th>\n",
       "      <th>season</th>\n",
       "      <th>number</th>\n",
       "      <th>type</th>\n",
       "      <th>airdate</th>\n",
       "      <th>airtime</th>\n",
       "      <th>runtime</th>\n",
       "      <th>summary</th>\n",
       "      <th>average rating</th>\n",
       "      <th>medium image link</th>\n",
       "      <th>Original image link</th>\n",
       "    </tr>\n",
       "  </thead>\n",
       "  <tbody>\n",
       "    <tr>\n",
       "      <th>20</th>\n",
       "      <td>1789333</td>\n",
       "      <td>https://www.tvmaze.com/episodes/1789333/westwo...</td>\n",
       "      <td>Parce Domine</td>\n",
       "      <td>3</td>\n",
       "      <td>1</td>\n",
       "      <td>regular</td>\n",
       "      <td>2020-03-15</td>\n",
       "      <td>09:00 PM</td>\n",
       "      <td>70.0</td>\n",
       "      <td>If you're stuck in a loop, try walking in a st...</td>\n",
       "      <td>8.0</td>\n",
       "      <td>https://static.tvmaze.com/uploads/images/mediu...</td>\n",
       "      <td>https://static.tvmaze.com/uploads/images/origi...</td>\n",
       "    </tr>\n",
       "    <tr>\n",
       "      <th>23</th>\n",
       "      <td>1800148</td>\n",
       "      <td>https://www.tvmaze.com/episodes/1800148/westwo...</td>\n",
       "      <td>The Mother of Exiles</td>\n",
       "      <td>3</td>\n",
       "      <td>4</td>\n",
       "      <td>regular</td>\n",
       "      <td>2020-04-05</td>\n",
       "      <td>09:00 PM</td>\n",
       "      <td>70.0</td>\n",
       "      <td>The truth doesn't always set you free.</td>\n",
       "      <td>8.0</td>\n",
       "      <td>https://static.tvmaze.com/uploads/images/mediu...</td>\n",
       "      <td>https://static.tvmaze.com/uploads/images/origi...</td>\n",
       "    </tr>\n",
       "  </tbody>\n",
       "</table>\n",
       "</div>"
      ],
      "text/plain": [
       "         id                                                url  \\\n",
       "20  1789333  https://www.tvmaze.com/episodes/1789333/westwo...   \n",
       "23  1800148  https://www.tvmaze.com/episodes/1800148/westwo...   \n",
       "\n",
       "                    name  season  number     type    airdate   airtime  \\\n",
       "20          Parce Domine       3       1  regular 2020-03-15  09:00 PM   \n",
       "23  The Mother of Exiles       3       4  regular 2020-04-05  09:00 PM   \n",
       "\n",
       "    runtime                                            summary  \\\n",
       "20     70.0  If you're stuck in a loop, try walking in a st...   \n",
       "23     70.0             The truth doesn't always set you free.   \n",
       "\n",
       "    average rating                                  medium image link  \\\n",
       "20             8.0  https://static.tvmaze.com/uploads/images/mediu...   \n",
       "23             8.0  https://static.tvmaze.com/uploads/images/mediu...   \n",
       "\n",
       "                                  Original image link  \n",
       "20  https://static.tvmaze.com/uploads/images/origi...  \n",
       "23  https://static.tvmaze.com/uploads/images/origi...  "
      ]
     },
     "execution_count": 110,
     "metadata": {},
     "output_type": "execute_result"
    }
   ],
   "source": [
    "# ● Get the summary for the most popular ( ratings ) episode in every season\n",
    "# For season 3\n",
    "season_3[season_3['average rating']==mode(season_3['average rating'])]"
   ]
  },
  {
   "cell_type": "code",
   "execution_count": 111,
   "id": "c024d670",
   "metadata": {},
   "outputs": [
    {
     "data": {
      "text/html": [
       "<div>\n",
       "<style scoped>\n",
       "    .dataframe tbody tr th:only-of-type {\n",
       "        vertical-align: middle;\n",
       "    }\n",
       "\n",
       "    .dataframe tbody tr th {\n",
       "        vertical-align: top;\n",
       "    }\n",
       "\n",
       "    .dataframe thead th {\n",
       "        text-align: right;\n",
       "    }\n",
       "</style>\n",
       "<table border=\"1\" class=\"dataframe\">\n",
       "  <thead>\n",
       "    <tr style=\"text-align: right;\">\n",
       "      <th></th>\n",
       "      <th>id</th>\n",
       "      <th>url</th>\n",
       "      <th>name</th>\n",
       "      <th>season</th>\n",
       "      <th>number</th>\n",
       "      <th>type</th>\n",
       "      <th>airdate</th>\n",
       "      <th>airtime</th>\n",
       "      <th>runtime</th>\n",
       "      <th>summary</th>\n",
       "      <th>average rating</th>\n",
       "      <th>medium image link</th>\n",
       "      <th>Original image link</th>\n",
       "    </tr>\n",
       "  </thead>\n",
       "  <tbody>\n",
       "    <tr>\n",
       "      <th>31</th>\n",
       "      <td>2326657</td>\n",
       "      <td>https://www.tvmaze.com/episodes/2326657/westwo...</td>\n",
       "      <td>Generation Loss</td>\n",
       "      <td>4</td>\n",
       "      <td>4</td>\n",
       "      <td>regular</td>\n",
       "      <td>2022-07-17</td>\n",
       "      <td>09:00 PM</td>\n",
       "      <td>51.0</td>\n",
       "      <td>Should auld acquaintance be forgot and days of...</td>\n",
       "      <td>7.7</td>\n",
       "      <td>https://static.tvmaze.com/uploads/images/mediu...</td>\n",
       "      <td>https://static.tvmaze.com/uploads/images/origi...</td>\n",
       "    </tr>\n",
       "    <tr>\n",
       "      <th>34</th>\n",
       "      <td>2326660</td>\n",
       "      <td>https://www.tvmaze.com/episodes/2326660/westwo...</td>\n",
       "      <td>Metanoia</td>\n",
       "      <td>4</td>\n",
       "      <td>7</td>\n",
       "      <td>regular</td>\n",
       "      <td>2022-08-07</td>\n",
       "      <td>09:00 PM</td>\n",
       "      <td>60.0</td>\n",
       "      <td>You want to have a drink at a time like this?</td>\n",
       "      <td>7.7</td>\n",
       "      <td>https://static.tvmaze.com/uploads/images/mediu...</td>\n",
       "      <td>https://static.tvmaze.com/uploads/images/origi...</td>\n",
       "    </tr>\n",
       "  </tbody>\n",
       "</table>\n",
       "</div>"
      ],
      "text/plain": [
       "         id                                                url  \\\n",
       "31  2326657  https://www.tvmaze.com/episodes/2326657/westwo...   \n",
       "34  2326660  https://www.tvmaze.com/episodes/2326660/westwo...   \n",
       "\n",
       "               name  season  number     type    airdate   airtime  runtime  \\\n",
       "31  Generation Loss       4       4  regular 2022-07-17  09:00 PM     51.0   \n",
       "34         Metanoia       4       7  regular 2022-08-07  09:00 PM     60.0   \n",
       "\n",
       "                                              summary  average rating  \\\n",
       "31  Should auld acquaintance be forgot and days of...             7.7   \n",
       "34      You want to have a drink at a time like this?             7.7   \n",
       "\n",
       "                                    medium image link  \\\n",
       "31  https://static.tvmaze.com/uploads/images/mediu...   \n",
       "34  https://static.tvmaze.com/uploads/images/mediu...   \n",
       "\n",
       "                                  Original image link  \n",
       "31  https://static.tvmaze.com/uploads/images/origi...  \n",
       "34  https://static.tvmaze.com/uploads/images/origi...  "
      ]
     },
     "execution_count": 111,
     "metadata": {},
     "output_type": "execute_result"
    }
   ],
   "source": [
    "# ● Get the summary for the most popular ( ratings ) episode in every season\n",
    "season_4[season_4['average rating']==mode(season_4['average rating'])]"
   ]
  },
  {
   "cell_type": "code",
   "execution_count": 112,
   "id": "67c24976",
   "metadata": {},
   "outputs": [
    {
     "name": "stdout",
     "output_type": "stream",
     "text": [
      "8.0\n",
      "7.7\n",
      "8.0\n",
      "7.7\n"
     ]
    }
   ],
   "source": [
    "#Get the summary for the most popular ( ratings ) episode in every season\n",
    "from statistics import mode\n",
    "\n",
    "mode_rating_1 = mode(season_1['average rating'])\n",
    "mode_rating_2 = mode(season_2['average rating'])\n",
    "mode_rating_3 = mode(season_3['average rating'])\n",
    "mode_rating_4 = mode(season_4['average rating'])\n",
    "print(mode_rating_1)\n",
    "print(mode_rating_2)\n",
    "print(mode_rating_3)\n",
    "print(mode_rating_4)"
   ]
  },
  {
   "cell_type": "code",
   "execution_count": null,
   "id": "74ea1650",
   "metadata": {},
   "outputs": [],
   "source": []
  },
  {
   "cell_type": "code",
   "execution_count": null,
   "id": "d3034783",
   "metadata": {},
   "outputs": [],
   "source": []
  }
 ],
 "metadata": {
  "kernelspec": {
   "display_name": "Python 3 (ipykernel)",
   "language": "python",
   "name": "python3"
  },
  "language_info": {
   "codemirror_mode": {
    "name": "ipython",
    "version": 3
   },
   "file_extension": ".py",
   "mimetype": "text/x-python",
   "name": "python",
   "nbconvert_exporter": "python",
   "pygments_lexer": "ipython3",
   "version": "3.9.13"
  }
 },
 "nbformat": 4,
 "nbformat_minor": 5
}
