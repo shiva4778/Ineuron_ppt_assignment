{
 "cells": [
  {
   "cell_type": "code",
   "execution_count": 8,
   "id": "3138a11b",
   "metadata": {},
   "outputs": [
    {
     "data": {
      "text/plain": [
       "'NO'"
      ]
     },
     "execution_count": 8,
     "metadata": {},
     "output_type": "execute_result"
    }
   ],
   "source": [
    "def is_valid_string(s):\n",
    "    # Create a dictionary to store the frequency of each character\n",
    "    freq = {}\n",
    "    for char in s:\n",
    "        freq[char] = freq.get(char, 0) + 1\n",
    "\n",
    "    # Find the most common frequency\n",
    "    max_freq = max(freq.values())\n",
    "\n",
    "    # Counting the number of characters with frequencies different from the most common frequency\n",
    "    diff_count = sum(1 for f in freq.values() if f != max_freq)\n",
    "\n",
    "    # Checking if the string is already valid or can be made valid by removing one character\n",
    "    if diff_count == 0 or (diff_count == 1 and (max_freq - 1 == 0 or diff_count == 1)):\n",
    "        return \"YES\"\n",
    "    else:\n",
    "        return \"NO\"\n",
    "is_valid_string('abcc')\n"
   ]
  },
  {
   "cell_type": "code",
   "execution_count": null,
   "id": "b620df56",
   "metadata": {},
   "outputs": [],
   "source": []
  }
 ],
 "metadata": {
  "kernelspec": {
   "display_name": "Python 3 (ipykernel)",
   "language": "python",
   "name": "python3"
  },
  "language_info": {
   "codemirror_mode": {
    "name": "ipython",
    "version": 3
   },
   "file_extension": ".py",
   "mimetype": "text/x-python",
   "name": "python",
   "nbconvert_exporter": "python",
   "pygments_lexer": "ipython3",
   "version": "3.9.13"
  }
 },
 "nbformat": 4,
 "nbformat_minor": 5
}
