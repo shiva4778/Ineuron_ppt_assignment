{
  "nbformat": 4,
  "nbformat_minor": 0,
  "metadata": {
    "colab": {
      "provenance": []
    },
    "kernelspec": {
      "name": "python3",
      "display_name": "Python 3"
    },
    "language_info": {
      "name": "python"
    }
  },
  "cells": [
    {
      "cell_type": "code",
      "execution_count": 26,
      "metadata": {
        "id": "X6P6JGt5fgJW"
      },
      "outputs": [],
      "source": [
        "import pandas as pd\n",
        "import csv\n",
        "import numpy as np\n",
        "from urllib.request import urlopen\n",
        "import json\n",
        "url=\"https://raw.githubusercontent.com/Biuni/PokemonGO-Pokedex/master/pokedex.json\" \n",
        "raw_data=urlopen(url).read() # Downloading the data\n",
        "json=json.loads(raw_data)"
      ]
    },
    {
      "cell_type": "code",
      "source": [
        "# Checking the column\n",
        "record=(json[\"pokemon\"])"
      ],
      "metadata": {
        "id": "p5mtCT-QfjNF"
      },
      "execution_count": 27,
      "outputs": []
    },
    {
      "cell_type": "code",
      "source": [
        "field_name=['id', 'num', 'name', 'img', 'type', 'height', 'weight', 'candy',\n",
        "       'candy_count', 'egg', 'spawn_chance', 'avg_spawns', 'spawn_time',\n",
        "       'multipliers', 'weaknesses', 'prev_evolution', 'next_evolution']"
      ],
      "metadata": {
        "id": "2c9w92RnhkiE"
      },
      "execution_count": 28,
      "outputs": []
    },
    {
      "cell_type": "code",
      "source": [
        "# Saving the file\n",
        "with open('output.csv', 'w', newline='') as csv_file:\n",
        "    writer = csv.DictWriter(csv_file, fieldnames=field_name)\n",
        "    writer.writeheader()\n",
        "    writer.writerows(record)"
      ],
      "metadata": {
        "id": "Ilkbo8cnfoSL"
      },
      "execution_count": 29,
      "outputs": []
    },
    {
      "cell_type": "code",
      "source": [
        "# Reading the file\n",
        "df1=pd.read_csv('output.csv')"
      ],
      "metadata": {
        "id": "IuFkFU8qh5Wc"
      },
      "execution_count": 30,
      "outputs": []
    },
    {
      "cell_type": "code",
      "source": [
        "# Changing the Pokeman height data type to float \n",
        "def height1(i):\n",
        "  a=i.split()[0]\n",
        "  return float(a)\n",
        "\n",
        "df1['height']=df1['height'].apply(height1)\n",
        "\n",
        "# Changing the Pokémon weight to float\n",
        "def weight1(i):\n",
        "  a=i.split()[0]\n",
        "  return float(a)\n",
        "df1['weight']=df1['weight'].apply(weight1)"
      ],
      "metadata": {
        "id": "4elCAAEkgNRp"
      },
      "execution_count": 31,
      "outputs": []
    },
    {
      "cell_type": "code",
      "source": [
        "# candy_count: the amount of candies required to evolve int\n",
        "\n",
        "def candy_count(i):\n",
        "    try:\n",
        "        return int(i)\n",
        "    except ValueError:\n",
        "        return 0\n",
        "\n",
        "df1['candy_count'] = df1['candy_count'].apply(candy_count)\n"
      ],
      "metadata": {
        "id": "aS72aCzVh3B6"
      },
      "execution_count": 32,
      "outputs": []
    },
    {
      "cell_type": "code",
      "source": [
        "# : Number of kilometers to travel to hatch the egg - float\n",
        "def egg1(i):\n",
        "  a=i.split()[0]\n",
        "  try:\n",
        "      return float(a)\n",
        "  except ValueError:\n",
        "      return 0\n",
        "df1[\"egg\"]=df1[\"egg\"].apply(egg1)"
      ],
      "metadata": {
        "id": "3B6FTjCAiFHS"
      },
      "execution_count": 33,
      "outputs": []
    },
    {
      "cell_type": "code",
      "source": [
        "# avg_spawns: Number of this pokemon on 10.000 spawns (NEW) - int\n",
        "def avg_spawn1(i):\n",
        "  try:\n",
        "    a=str(i).split(':')\n",
        "    \n",
        "    if len(a)==2:\n",
        "    \n",
        "      return float(a[0]+'.'+a[1])\n",
        "    else:\n",
        "      return float(a[0])\n",
        "    \n",
        "\n",
        "\n",
        "  except ValueError:\n",
        "    return 0\n",
        "\n",
        "df1['avg_spawns']=df1[\"avg_spawns\"].apply(avg_spawn1)\n",
        "  "
      ],
      "metadata": {
        "id": "CEBKMnp8iHWa"
      },
      "execution_count": 34,
      "outputs": []
    },
    {
      "cell_type": "code",
      "source": [
        "\n",
        "# avg_spawns: Number of this pokemon on 10.000 spawns (NEW) - int\n",
        "def convert_multipliers(multipliers):\n",
        "    try:\n",
        "        evaluated_obj = eval(multipliers)\n",
        "        if isinstance(evaluated_obj, list):\n",
        "            return evaluated_obj\n",
        "    except (ValueError, TypeError):\n",
        "        pass\n",
        "    return np.nan\n",
        "\n",
        "df1['multipliers'] = df1['multipliers'].apply(convert_multipliers)\n"
      ],
      "metadata": {
        "id": "kR4A_w35iNsr"
      },
      "execution_count": 35,
      "outputs": []
    },
    {
      "cell_type": "code",
      "source": [
        "#Percentage of spawn chance (NEW) - float\n",
        "df1['spawn_chance']=df1['spawn_chance']/100\n",
        "\n"
      ],
      "metadata": {
        "id": "2XljbQeniP8B"
      },
      "execution_count": 36,
      "outputs": []
    },
    {
      "cell_type": "code",
      "source": [
        "# avg_spawns: Number of this pokemon on 10.000 spawns (NEW) - int\n",
        "df1['avg_spawns']=df1['avg_spawns']*10\n",
        "df1['avg_spawns']=df1['avg_spawns'].astype(int,errors='ignore')\n",
        "\n",
        "# Creating a new datetime column with combined minute and second\n",
        "df1['spawn_time'] = df1['spawn_time'].fillna('00:00')\n",
        "\n",
        "df1['spawn_time'] = pd.to_datetime(df1['spawn_time'], format=\"%M:%S\")\n",
        "\n",
        "\n",
        "\n"
      ],
      "metadata": {
        "id": "tJKmaxjViSgs"
      },
      "execution_count": 37,
      "outputs": []
    },
    {
      "cell_type": "code",
      "source": [
        "# Saving the csv  file to xlsx file\n",
        "df2=df1\n",
        "excel_file_name='pokeman.xlsx'\n",
        "df1.to_excel(excel_file_name, index=False)"
      ],
      "metadata": {
        "id": "qIIJzJPUiVQz"
      },
      "execution_count": 38,
      "outputs": []
    },
    {
      "cell_type": "code",
      "source": [
        "df1.head()"
      ],
      "metadata": {
        "colab": {
          "base_uri": "https://localhost:8080/",
          "height": 478
        },
        "id": "OBEAbA5Oie94",
        "outputId": "e22444d5-f479-4e1b-ef38-f25019bc6d39"
      },
      "execution_count": 39,
      "outputs": [
        {
          "output_type": "execute_result",
          "data": {
            "text/plain": [
              "   id  num        name                                               img  \\\n",
              "0   1    1   Bulbasaur  http://www.serebii.net/pokemongo/pokemon/001.png   \n",
              "1   2    2     Ivysaur  http://www.serebii.net/pokemongo/pokemon/002.png   \n",
              "2   3    3    Venusaur  http://www.serebii.net/pokemongo/pokemon/003.png   \n",
              "3   4    4  Charmander  http://www.serebii.net/pokemongo/pokemon/004.png   \n",
              "4   5    5  Charmeleon  http://www.serebii.net/pokemongo/pokemon/005.png   \n",
              "\n",
              "                  type  height  weight             candy  candy_count  egg  \\\n",
              "0  ['Grass', 'Poison']    0.71     6.9   Bulbasaur Candy           25  2.0   \n",
              "1  ['Grass', 'Poison']    0.99    13.0   Bulbasaur Candy          100  0.0   \n",
              "2  ['Grass', 'Poison']    2.01   100.0   Bulbasaur Candy            0  0.0   \n",
              "3             ['Fire']    0.61     8.5  Charmander Candy           25  2.0   \n",
              "4             ['Fire']    1.09    19.0  Charmander Candy          100  0.0   \n",
              "\n",
              "   spawn_chance  avg_spawns          spawn_time multipliers  \\\n",
              "0       0.00690         690 1900-01-01 00:20:00      [1.58]   \n",
              "1       0.00042          42 1900-01-01 00:07:00  [1.2, 1.6]   \n",
              "2       0.00017          17 1900-01-01 00:11:30         NaN   \n",
              "3       0.00253         253 1900-01-01 00:08:45      [1.65]   \n",
              "4       0.00012          12 1900-01-01 00:19:00      [1.79]   \n",
              "\n",
              "                             weaknesses  \\\n",
              "0  ['Fire', 'Ice', 'Flying', 'Psychic']   \n",
              "1  ['Fire', 'Ice', 'Flying', 'Psychic']   \n",
              "2  ['Fire', 'Ice', 'Flying', 'Psychic']   \n",
              "3           ['Water', 'Ground', 'Rock']   \n",
              "4           ['Water', 'Ground', 'Rock']   \n",
              "\n",
              "                                      prev_evolution  \\\n",
              "0                                                NaN   \n",
              "1              [{'num': '001', 'name': 'Bulbasaur'}]   \n",
              "2  [{'num': '001', 'name': 'Bulbasaur'}, {'num': ...   \n",
              "3                                                NaN   \n",
              "4             [{'num': '004', 'name': 'Charmander'}]   \n",
              "\n",
              "                                      next_evolution  \n",
              "0  [{'num': '002', 'name': 'Ivysaur'}, {'num': '0...  \n",
              "1               [{'num': '003', 'name': 'Venusaur'}]  \n",
              "2                                                NaN  \n",
              "3  [{'num': '005', 'name': 'Charmeleon'}, {'num':...  \n",
              "4              [{'num': '006', 'name': 'Charizard'}]  "
            ],
            "text/html": [
              "\n",
              "  <div id=\"df-789bff34-b997-4082-9d40-743d72a9beef\">\n",
              "    <div class=\"colab-df-container\">\n",
              "      <div>\n",
              "<style scoped>\n",
              "    .dataframe tbody tr th:only-of-type {\n",
              "        vertical-align: middle;\n",
              "    }\n",
              "\n",
              "    .dataframe tbody tr th {\n",
              "        vertical-align: top;\n",
              "    }\n",
              "\n",
              "    .dataframe thead th {\n",
              "        text-align: right;\n",
              "    }\n",
              "</style>\n",
              "<table border=\"1\" class=\"dataframe\">\n",
              "  <thead>\n",
              "    <tr style=\"text-align: right;\">\n",
              "      <th></th>\n",
              "      <th>id</th>\n",
              "      <th>num</th>\n",
              "      <th>name</th>\n",
              "      <th>img</th>\n",
              "      <th>type</th>\n",
              "      <th>height</th>\n",
              "      <th>weight</th>\n",
              "      <th>candy</th>\n",
              "      <th>candy_count</th>\n",
              "      <th>egg</th>\n",
              "      <th>spawn_chance</th>\n",
              "      <th>avg_spawns</th>\n",
              "      <th>spawn_time</th>\n",
              "      <th>multipliers</th>\n",
              "      <th>weaknesses</th>\n",
              "      <th>prev_evolution</th>\n",
              "      <th>next_evolution</th>\n",
              "    </tr>\n",
              "  </thead>\n",
              "  <tbody>\n",
              "    <tr>\n",
              "      <th>0</th>\n",
              "      <td>1</td>\n",
              "      <td>1</td>\n",
              "      <td>Bulbasaur</td>\n",
              "      <td>http://www.serebii.net/pokemongo/pokemon/001.png</td>\n",
              "      <td>['Grass', 'Poison']</td>\n",
              "      <td>0.71</td>\n",
              "      <td>6.9</td>\n",
              "      <td>Bulbasaur Candy</td>\n",
              "      <td>25</td>\n",
              "      <td>2.0</td>\n",
              "      <td>0.00690</td>\n",
              "      <td>690</td>\n",
              "      <td>1900-01-01 00:20:00</td>\n",
              "      <td>[1.58]</td>\n",
              "      <td>['Fire', 'Ice', 'Flying', 'Psychic']</td>\n",
              "      <td>NaN</td>\n",
              "      <td>[{'num': '002', 'name': 'Ivysaur'}, {'num': '0...</td>\n",
              "    </tr>\n",
              "    <tr>\n",
              "      <th>1</th>\n",
              "      <td>2</td>\n",
              "      <td>2</td>\n",
              "      <td>Ivysaur</td>\n",
              "      <td>http://www.serebii.net/pokemongo/pokemon/002.png</td>\n",
              "      <td>['Grass', 'Poison']</td>\n",
              "      <td>0.99</td>\n",
              "      <td>13.0</td>\n",
              "      <td>Bulbasaur Candy</td>\n",
              "      <td>100</td>\n",
              "      <td>0.0</td>\n",
              "      <td>0.00042</td>\n",
              "      <td>42</td>\n",
              "      <td>1900-01-01 00:07:00</td>\n",
              "      <td>[1.2, 1.6]</td>\n",
              "      <td>['Fire', 'Ice', 'Flying', 'Psychic']</td>\n",
              "      <td>[{'num': '001', 'name': 'Bulbasaur'}]</td>\n",
              "      <td>[{'num': '003', 'name': 'Venusaur'}]</td>\n",
              "    </tr>\n",
              "    <tr>\n",
              "      <th>2</th>\n",
              "      <td>3</td>\n",
              "      <td>3</td>\n",
              "      <td>Venusaur</td>\n",
              "      <td>http://www.serebii.net/pokemongo/pokemon/003.png</td>\n",
              "      <td>['Grass', 'Poison']</td>\n",
              "      <td>2.01</td>\n",
              "      <td>100.0</td>\n",
              "      <td>Bulbasaur Candy</td>\n",
              "      <td>0</td>\n",
              "      <td>0.0</td>\n",
              "      <td>0.00017</td>\n",
              "      <td>17</td>\n",
              "      <td>1900-01-01 00:11:30</td>\n",
              "      <td>NaN</td>\n",
              "      <td>['Fire', 'Ice', 'Flying', 'Psychic']</td>\n",
              "      <td>[{'num': '001', 'name': 'Bulbasaur'}, {'num': ...</td>\n",
              "      <td>NaN</td>\n",
              "    </tr>\n",
              "    <tr>\n",
              "      <th>3</th>\n",
              "      <td>4</td>\n",
              "      <td>4</td>\n",
              "      <td>Charmander</td>\n",
              "      <td>http://www.serebii.net/pokemongo/pokemon/004.png</td>\n",
              "      <td>['Fire']</td>\n",
              "      <td>0.61</td>\n",
              "      <td>8.5</td>\n",
              "      <td>Charmander Candy</td>\n",
              "      <td>25</td>\n",
              "      <td>2.0</td>\n",
              "      <td>0.00253</td>\n",
              "      <td>253</td>\n",
              "      <td>1900-01-01 00:08:45</td>\n",
              "      <td>[1.65]</td>\n",
              "      <td>['Water', 'Ground', 'Rock']</td>\n",
              "      <td>NaN</td>\n",
              "      <td>[{'num': '005', 'name': 'Charmeleon'}, {'num':...</td>\n",
              "    </tr>\n",
              "    <tr>\n",
              "      <th>4</th>\n",
              "      <td>5</td>\n",
              "      <td>5</td>\n",
              "      <td>Charmeleon</td>\n",
              "      <td>http://www.serebii.net/pokemongo/pokemon/005.png</td>\n",
              "      <td>['Fire']</td>\n",
              "      <td>1.09</td>\n",
              "      <td>19.0</td>\n",
              "      <td>Charmander Candy</td>\n",
              "      <td>100</td>\n",
              "      <td>0.0</td>\n",
              "      <td>0.00012</td>\n",
              "      <td>12</td>\n",
              "      <td>1900-01-01 00:19:00</td>\n",
              "      <td>[1.79]</td>\n",
              "      <td>['Water', 'Ground', 'Rock']</td>\n",
              "      <td>[{'num': '004', 'name': 'Charmander'}]</td>\n",
              "      <td>[{'num': '006', 'name': 'Charizard'}]</td>\n",
              "    </tr>\n",
              "  </tbody>\n",
              "</table>\n",
              "</div>\n",
              "      <button class=\"colab-df-convert\" onclick=\"convertToInteractive('df-789bff34-b997-4082-9d40-743d72a9beef')\"\n",
              "              title=\"Convert this dataframe to an interactive table.\"\n",
              "              style=\"display:none;\">\n",
              "        \n",
              "  <svg xmlns=\"http://www.w3.org/2000/svg\" height=\"24px\"viewBox=\"0 0 24 24\"\n",
              "       width=\"24px\">\n",
              "    <path d=\"M0 0h24v24H0V0z\" fill=\"none\"/>\n",
              "    <path d=\"M18.56 5.44l.94 2.06.94-2.06 2.06-.94-2.06-.94-.94-2.06-.94 2.06-2.06.94zm-11 1L8.5 8.5l.94-2.06 2.06-.94-2.06-.94L8.5 2.5l-.94 2.06-2.06.94zm10 10l.94 2.06.94-2.06 2.06-.94-2.06-.94-.94-2.06-.94 2.06-2.06.94z\"/><path d=\"M17.41 7.96l-1.37-1.37c-.4-.4-.92-.59-1.43-.59-.52 0-1.04.2-1.43.59L10.3 9.45l-7.72 7.72c-.78.78-.78 2.05 0 2.83L4 21.41c.39.39.9.59 1.41.59.51 0 1.02-.2 1.41-.59l7.78-7.78 2.81-2.81c.8-.78.8-2.07 0-2.86zM5.41 20L4 18.59l7.72-7.72 1.47 1.35L5.41 20z\"/>\n",
              "  </svg>\n",
              "      </button>\n",
              "      \n",
              "  <style>\n",
              "    .colab-df-container {\n",
              "      display:flex;\n",
              "      flex-wrap:wrap;\n",
              "      gap: 12px;\n",
              "    }\n",
              "\n",
              "    .colab-df-convert {\n",
              "      background-color: #E8F0FE;\n",
              "      border: none;\n",
              "      border-radius: 50%;\n",
              "      cursor: pointer;\n",
              "      display: none;\n",
              "      fill: #1967D2;\n",
              "      height: 32px;\n",
              "      padding: 0 0 0 0;\n",
              "      width: 32px;\n",
              "    }\n",
              "\n",
              "    .colab-df-convert:hover {\n",
              "      background-color: #E2EBFA;\n",
              "      box-shadow: 0px 1px 2px rgba(60, 64, 67, 0.3), 0px 1px 3px 1px rgba(60, 64, 67, 0.15);\n",
              "      fill: #174EA6;\n",
              "    }\n",
              "\n",
              "    [theme=dark] .colab-df-convert {\n",
              "      background-color: #3B4455;\n",
              "      fill: #D2E3FC;\n",
              "    }\n",
              "\n",
              "    [theme=dark] .colab-df-convert:hover {\n",
              "      background-color: #434B5C;\n",
              "      box-shadow: 0px 1px 3px 1px rgba(0, 0, 0, 0.15);\n",
              "      filter: drop-shadow(0px 1px 2px rgba(0, 0, 0, 0.3));\n",
              "      fill: #FFFFFF;\n",
              "    }\n",
              "  </style>\n",
              "\n",
              "      <script>\n",
              "        const buttonEl =\n",
              "          document.querySelector('#df-789bff34-b997-4082-9d40-743d72a9beef button.colab-df-convert');\n",
              "        buttonEl.style.display =\n",
              "          google.colab.kernel.accessAllowed ? 'block' : 'none';\n",
              "\n",
              "        async function convertToInteractive(key) {\n",
              "          const element = document.querySelector('#df-789bff34-b997-4082-9d40-743d72a9beef');\n",
              "          const dataTable =\n",
              "            await google.colab.kernel.invokeFunction('convertToInteractive',\n",
              "                                                     [key], {});\n",
              "          if (!dataTable) return;\n",
              "\n",
              "          const docLinkHtml = 'Like what you see? Visit the ' +\n",
              "            '<a target=\"_blank\" href=https://colab.research.google.com/notebooks/data_table.ipynb>data table notebook</a>'\n",
              "            + ' to learn more about interactive tables.';\n",
              "          element.innerHTML = '';\n",
              "          dataTable['output_type'] = 'display_data';\n",
              "          await google.colab.output.renderOutput(dataTable, element);\n",
              "          const docLink = document.createElement('div');\n",
              "          docLink.innerHTML = docLinkHtml;\n",
              "          element.appendChild(docLink);\n",
              "        }\n",
              "      </script>\n",
              "    </div>\n",
              "  </div>\n",
              "  "
            ]
          },
          "metadata": {},
          "execution_count": 39
        }
      ]
    },
    {
      "cell_type": "code",
      "source": [
        "df1.dtypes"
      ],
      "metadata": {
        "colab": {
          "base_uri": "https://localhost:8080/"
        },
        "id": "o3-skkr1l7RR",
        "outputId": "7ab1867f-ca71-4493-f306-b122eb4d064c"
      },
      "execution_count": 40,
      "outputs": [
        {
          "output_type": "execute_result",
          "data": {
            "text/plain": [
              "id                         int64\n",
              "num                        int64\n",
              "name                      object\n",
              "img                       object\n",
              "type                      object\n",
              "height                   float64\n",
              "weight                   float64\n",
              "candy                     object\n",
              "candy_count                int64\n",
              "egg                      float64\n",
              "spawn_chance             float64\n",
              "avg_spawns                 int64\n",
              "spawn_time        datetime64[ns]\n",
              "multipliers               object\n",
              "weaknesses                object\n",
              "prev_evolution            object\n",
              "next_evolution            object\n",
              "dtype: object"
            ]
          },
          "metadata": {},
          "execution_count": 40
        }
      ]
    },
    {
      "cell_type": "code",
      "source": [],
      "metadata": {
        "id": "EfPXJxIul8y1"
      },
      "execution_count": null,
      "outputs": []
    }
  ]
}