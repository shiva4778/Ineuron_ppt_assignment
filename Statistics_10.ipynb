{
 "cells": [
  {
   "cell_type": "raw",
   "id": "0c35a86d",
   "metadata": {},
   "source": [
    "Q-10."
   ]
  },
  {
   "cell_type": "raw",
   "id": "8be65055",
   "metadata": {},
   "source": [
    "A factory produces light bulbs, and the probability of a bulb being defective is 0.05. The factory produces a large batch of 500 light bulbs.\n",
    "What is the probability that exactly 20 bulbs are defective?\n",
    "What is the probability that at least 10 bulbs are defective?\n",
    "What is the probability that at max 15 bulbs are defective?\n",
    "On average, how many defective bulbs would you expect in a batch of 500?"
   ]
  },
  {
   "cell_type": "code",
   "execution_count": 3,
   "id": "9a79ed7f",
   "metadata": {},
   "outputs": [],
   "source": [
    "import scipy.stats as stats\n",
    "p = 0.05\n",
    "n = 500"
   ]
  },
  {
   "cell_type": "markdown",
   "id": "e4519b50",
   "metadata": {},
   "source": [
    "What is the probability that exactly 20 bulbs are defective?"
   ]
  },
  {
   "cell_type": "code",
   "execution_count": 6,
   "id": "b42e9c51",
   "metadata": {},
   "outputs": [
    {
     "data": {
      "text/plain": [
       "0.05"
      ]
     },
     "execution_count": 6,
     "metadata": {},
     "output_type": "execute_result"
    }
   ],
   "source": [
    "probability_20_defective = stats.binom.pmf(20, n, p)\n",
    "round(probability_20_defective,2)"
   ]
  },
  {
   "cell_type": "markdown",
   "id": "e259a85e",
   "metadata": {},
   "source": [
    "What is the probability that at least 10 bulbs are defective?\n"
   ]
  },
  {
   "cell_type": "code",
   "execution_count": 7,
   "id": "b2bd3968",
   "metadata": {},
   "outputs": [
    {
     "data": {
      "text/plain": [
       "0.9998316463654902"
      ]
     },
     "execution_count": 7,
     "metadata": {},
     "output_type": "execute_result"
    }
   ],
   "source": [
    "probability_at_least_10_defective = stats.binom.sf(9, n, p)\n",
    "probability_at_least_10_defective"
   ]
  },
  {
   "cell_type": "markdown",
   "id": "2d2eefef",
   "metadata": {},
   "source": [
    "What is the probability that at max 15 bulbs are defective?"
   ]
  },
  {
   "cell_type": "code",
   "execution_count": 9,
   "id": "5f1e3f34",
   "metadata": {},
   "outputs": [
    {
     "data": {
      "text/plain": [
       "0.01985837716300623"
      ]
     },
     "execution_count": 9,
     "metadata": {},
     "output_type": "execute_result"
    }
   ],
   "source": [
    "probability_max_15_defective = stats.binom.cdf(15, n, p)\n",
    "probability_max_15_defective"
   ]
  },
  {
   "cell_type": "markdown",
   "id": "7b862b08",
   "metadata": {},
   "source": [
    "On average, how many defective bulbs would you expect in a batch of 500?"
   ]
  },
  {
   "cell_type": "code",
   "execution_count": 10,
   "id": "d0ca0fb7",
   "metadata": {},
   "outputs": [
    {
     "data": {
      "text/plain": [
       "25.0"
      ]
     },
     "execution_count": 10,
     "metadata": {},
     "output_type": "execute_result"
    }
   ],
   "source": [
    "expected_defective_bulbs = n * p\n",
    "expected_defective_bulbs"
   ]
  },
  {
   "cell_type": "code",
   "execution_count": null,
   "id": "d6925343",
   "metadata": {},
   "outputs": [],
   "source": []
  }
 ],
 "metadata": {
  "kernelspec": {
   "display_name": "Python 3 (ipykernel)",
   "language": "python",
   "name": "python3"
  },
  "language_info": {
   "codemirror_mode": {
    "name": "ipython",
    "version": 3
   },
   "file_extension": ".py",
   "mimetype": "text/x-python",
   "name": "python",
   "nbconvert_exporter": "python",
   "pygments_lexer": "ipython3",
   "version": "3.9.13"
  }
 },
 "nbformat": 4,
 "nbformat_minor": 5
}
