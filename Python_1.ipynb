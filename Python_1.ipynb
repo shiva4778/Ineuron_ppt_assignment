{
 "cells": [
  {
   "cell_type": "code",
   "execution_count": 1,
   "id": "7963595b",
   "metadata": {},
   "outputs": [
    {
     "name": "stdout",
     "output_type": "stream",
     "text": [
      "Enter the string you want to find its highest frequency:  write write write all the number from from from 1 to 100\n",
      "The frequency of highest frequency word ['write', 'from'] is 5\n"
     ]
    }
   ],
   "source": [
    "a=\"write write write all the number from from from 1 to 100\"\n",
    "def highest_frequency(sentence):\n",
    "    #Splitting the string into words\n",
    "    words=sentence.split()\n",
    "    d={}\n",
    "    k={}\n",
    "    l={}\n",
    "    #Counting the frequency of each word\n",
    "    \n",
    "    \n",
    "    for word in words:\n",
    "        d[word]=words.count(word)\n",
    "    if max(list(d.values()))==1:\n",
    "        \n",
    "        return 'there is no repeted word '\n",
    "    for j in d:\n",
    "        if d[j]>1:\n",
    "            k[j]=len(j)\n",
    "            l[j]=words.count(j)\n",
    "   \n",
    "    return list(k.keys()),len(max(list(k.keys())))\n",
    "\n",
    "input_string=input(\"Enter the string you want to find its highest frequency:  \")\n",
    "word,frequency=highest_frequency(input_string)\n",
    "print(f\"The frequency of highest frequency word {word} is {frequency}\")"
   ]
  },
  {
   "cell_type": "code",
   "execution_count": null,
   "id": "6cda1d6f",
   "metadata": {},
   "outputs": [],
   "source": []
  }
 ],
 "metadata": {
  "kernelspec": {
   "display_name": "Python 3 (ipykernel)",
   "language": "python",
   "name": "python3"
  },
  "language_info": {
   "codemirror_mode": {
    "name": "ipython",
    "version": 3
   },
   "file_extension": ".py",
   "mimetype": "text/x-python",
   "name": "python",
   "nbconvert_exporter": "python",
   "pygments_lexer": "ipython3",
   "version": "3.9.13"
  }
 },
 "nbformat": 4,
 "nbformat_minor": 5
}
