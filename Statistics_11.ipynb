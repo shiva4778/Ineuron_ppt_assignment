{
 "cells": [
  {
   "cell_type": "markdown",
   "id": "463a2a9f",
   "metadata": {},
   "source": [
    "Q-11."
   ]
  },
  {
   "cell_type": "raw",
   "id": "b805c70b",
   "metadata": {},
   "source": [
    "Given the data of a feature contributing to different classes\n",
    "Check whether the distribution of all the classes are the same or not.\n",
    "Check for the equality of variance/\n",
    "Which amount LDA and QDA would perform better on this data for classification and why.\n",
    "Check the equality of mean for between all the classes."
   ]
  },
  {
   "cell_type": "code",
   "execution_count": 1,
   "id": "0e1e5550",
   "metadata": {},
   "outputs": [],
   "source": [
    "import pandas as pd\n",
    "import seaborn as sns\n",
    "import matplotlib.pyplot as plt\n",
    "import scipy.stats as stats"
   ]
  },
  {
   "cell_type": "markdown",
   "id": "2f1bef53",
   "metadata": {},
   "source": [
    "Reading the data"
   ]
  },
  {
   "cell_type": "code",
   "execution_count": 4,
   "id": "334558af",
   "metadata": {},
   "outputs": [],
   "source": [
    "df=pd.read_csv(r\"C:\\Users\\XMALL\\Downloads\\data.csv\")"
   ]
  },
  {
   "cell_type": "code",
   "execution_count": 5,
   "id": "cbffd8a5",
   "metadata": {},
   "outputs": [
    {
     "data": {
      "text/html": [
       "<div>\n",
       "<style scoped>\n",
       "    .dataframe tbody tr th:only-of-type {\n",
       "        vertical-align: middle;\n",
       "    }\n",
       "\n",
       "    .dataframe tbody tr th {\n",
       "        vertical-align: top;\n",
       "    }\n",
       "\n",
       "    .dataframe thead th {\n",
       "        text-align: right;\n",
       "    }\n",
       "</style>\n",
       "<table border=\"1\" class=\"dataframe\">\n",
       "  <thead>\n",
       "    <tr style=\"text-align: right;\">\n",
       "      <th></th>\n",
       "      <th>Patient ID</th>\n",
       "      <th>Blood Pressure Before (mmHg)</th>\n",
       "      <th>Blood Pressure After (mmHg)</th>\n",
       "    </tr>\n",
       "  </thead>\n",
       "  <tbody>\n",
       "    <tr>\n",
       "      <th>0</th>\n",
       "      <td>1</td>\n",
       "      <td>130</td>\n",
       "      <td>120</td>\n",
       "    </tr>\n",
       "    <tr>\n",
       "      <th>1</th>\n",
       "      <td>2</td>\n",
       "      <td>142</td>\n",
       "      <td>135</td>\n",
       "    </tr>\n",
       "    <tr>\n",
       "      <th>2</th>\n",
       "      <td>3</td>\n",
       "      <td>120</td>\n",
       "      <td>118</td>\n",
       "    </tr>\n",
       "    <tr>\n",
       "      <th>3</th>\n",
       "      <td>4</td>\n",
       "      <td>135</td>\n",
       "      <td>127</td>\n",
       "    </tr>\n",
       "    <tr>\n",
       "      <th>4</th>\n",
       "      <td>5</td>\n",
       "      <td>148</td>\n",
       "      <td>140</td>\n",
       "    </tr>\n",
       "  </tbody>\n",
       "</table>\n",
       "</div>"
      ],
      "text/plain": [
       "   Patient ID   Blood Pressure Before (mmHg)   Blood Pressure After (mmHg)\n",
       "0           1                            130                           120\n",
       "1           2                            142                           135\n",
       "2           3                            120                           118\n",
       "3           4                            135                           127\n",
       "4           5                            148                           140"
      ]
     },
     "execution_count": 5,
     "metadata": {},
     "output_type": "execute_result"
    }
   ],
   "source": [
    "df.head()"
   ]
  },
  {
   "cell_type": "markdown",
   "id": "c3e952b1",
   "metadata": {},
   "source": [
    "***Check whether the distribution of all the classes are the same or not.***\n",
    "\n"
   ]
  },
  {
   "cell_type": "markdown",
   "id": "427535bf",
   "metadata": {},
   "source": [
    "There are no classes in the given data. However to check the distribution of numeric variables accross multiple classes on a target variable, we use ANOVA (Analysis of Variance) test. Which uses the f-distribution curve to ascertain weather the mean values of different classes are statistically similar or different. ANOVA test checks the squared dispersion within the same class and among two separate classes."
   ]
  },
  {
   "cell_type": "markdown",
   "id": "8345a240",
   "metadata": {},
   "source": [
    "***Check for the equality of variance***"
   ]
  },
  {
   "cell_type": "code",
   "execution_count": 10,
   "id": "38500d19",
   "metadata": {},
   "outputs": [
    {
     "data": {
      "text/plain": [
       "(0.18038002140150966, 0.6715080090945376)"
      ]
     },
     "execution_count": 10,
     "metadata": {},
     "output_type": "execute_result"
    }
   ],
   "source": [
    "statistic, p_value = stats.levene(df[' Blood Pressure Before (mmHg)'], df[' Blood Pressure After (mmHg)'])\n",
    "statistic, p_value"
   ]
  },
  {
   "cell_type": "markdown",
   "id": "4e7e038f",
   "metadata": {},
   "source": [
    "We see that the p-value (0.6715) is greater than the commonly taken significance level of 5%. Therefore, the variances are equal in the before and the after data.\n"
   ]
  },
  {
   "cell_type": "markdown",
   "id": "eb9a2ae0",
   "metadata": {},
   "source": [
    "***Which amount LDA and QDA would perform better on this data for classification and why.***"
   ]
  },
  {
   "cell_type": "markdown",
   "id": "f79d0eae",
   "metadata": {},
   "source": [
    "We cannot perform LDA (Linear discriminant analysis) or QDA (Quardratic discriminant analysis) for classification of the given dataset as these methods are for classification of categorical data, but the given data set has only numeric features, which is not suitable to apply on LDA or QDA."
   ]
  },
  {
   "cell_type": "markdown",
   "id": "5263ed67",
   "metadata": {},
   "source": [
    "***Check the equality of mean for between all the classes.***"
   ]
  },
  {
   "cell_type": "markdown",
   "id": "343b178d",
   "metadata": {},
   "source": [
    "We don't have categorical features in our dataset so we cannot perform such a check. However, such a check can be performed by a one-way ANOVA test."
   ]
  },
  {
   "cell_type": "code",
   "execution_count": null,
   "id": "b04c48d2",
   "metadata": {},
   "outputs": [],
   "source": []
  }
 ],
 "metadata": {
  "kernelspec": {
   "display_name": "Python 3 (ipykernel)",
   "language": "python",
   "name": "python3"
  },
  "language_info": {
   "codemirror_mode": {
    "name": "ipython",
    "version": 3
   },
   "file_extension": ".py",
   "mimetype": "text/x-python",
   "name": "python",
   "nbconvert_exporter": "python",
   "pygments_lexer": "ipython3",
   "version": "3.9.13"
  }
 },
 "nbformat": 4,
 "nbformat_minor": 5
}
