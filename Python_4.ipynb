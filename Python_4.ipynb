{
 "cells": [
  {
   "cell_type": "code",
   "execution_count": 3,
   "id": "6a90f41b",
   "metadata": {},
   "outputs": [
    {
     "name": "stdout",
     "output_type": "stream",
     "text": [
      "successfully file is downloaded\n"
     ]
    },
    {
     "data": {
      "text/plain": [
       "Name of Earth Meteorite                          object\n",
       "ID of Earth Meteorite                             int32\n",
       "nametype                                         object\n",
       "recclass                                         object\n",
       "Mass of Earth Meteorite                         float64\n",
       "Year at which Earth Meteorite was hit    datetime64[ns]\n",
       "reclat                                          float64\n",
       "recclong                                        float64\n",
       "point coordinates                                object\n",
       "dtype: object"
      ]
     },
     "execution_count": 3,
     "metadata": {},
     "output_type": "execute_result"
    }
   ],
   "source": [
    "url='https://data.nasa.gov/resource/y77d-th95.json'\n",
    "import requests\n",
    "import pandas as pd\n",
    "from datetime import datetime\n",
    "class Meteorite:\n",
    "    def __init__(self,url):\n",
    "        self.url=url\n",
    "    def download(self):\n",
    "        file_name='nasa_data'\n",
    "        csv_file_name='nasa1.csv'\n",
    "        response=requests.get(self.url)\n",
    "        if response.status_code==200:\n",
    "            with open(file_name,'wb') as file:\n",
    "                file.write(response.content)\n",
    "        df=pd.read_json(file_name)\n",
    "        a=df.to_csv(csv_file_name)\n",
    "        \n",
    "        print('successfully file is downloaded')\n",
    "        #print(df.head())\n",
    "        df=pd.read_csv(csv_file_name,usecols=['name','id','nametype','recclass','mass','year',\\\n",
    "                                          'reclat','reclong','geolocation'])\n",
    "        return df\n",
    "    def renaming_column(self):\n",
    "        df=self.download()\n",
    "        \n",
    "        \n",
    "        df.columns=['Name of Earth Meteorite','ID of Earth Meteorite','nametype','recclass',\\\n",
    "             'Mass of Earth Meteorite','Year at which Earth Meteorite was hit','reclat','recclong',\\\n",
    "                     'point coordinates']\n",
    "        \n",
    "        df=df.dropna() # Removing null values\n",
    "        return df\n",
    "    def datatype(self):\n",
    "        df=self.renaming_column()\n",
    "        df['ID of Earth Meteorite']=df['ID of Earth Meteorite'].astype(int) # - ID of Earth Meteorite - int \n",
    "        df['Mass of Earth Meteorite']=df['Mass of Earth Meteorite'].astype(float) # mass - Mass of Earth Meteorite\n",
    "        df['reclat']=df['reclat'].astype(float) # reclat - float\n",
    "        df['recclong']=df['recclong'].astype(float) # t recclong - float\n",
    "        \n",
    "        # t year - Year at which Earth Meteorite was hit - datetime format reclat -\n",
    "        df['Year at which Earth Meteorite was hit'] = df['Year at which Earth Meteorite was hit'].str.split('T').str[0]\n",
    "        \n",
    "         \n",
    "        df['Year at which Earth Meteorite was hit']= pd.to_datetime(df['Year at which Earth Meteorite was hit']\\\n",
    "                                                         ,errors='coerce')\n",
    "        return df\n",
    "    \n",
    "    def coordinates(self): #point coordinates - list of int\n",
    "\n",
    "        df=self.datatype()\n",
    "        def jsonify(i):\n",
    "            \n",
    "            a=eval(i)['coordinates']\n",
    "            x=[int(i) for i in a]\n",
    "            return x\n",
    "        df['point coordinates']=df['point coordinates'].apply(jsonify)\n",
    "        \n",
    "        return df\n",
    "a=Meteorite(url)\n",
    "df=a.coordinates()\n",
    "df.head()\n",
    "df.dtypes\n",
    "     \n",
    "        \n",
    "        \n",
    "        \n",
    "    "
   ]
  },
  {
   "cell_type": "code",
   "execution_count": null,
   "id": "40bb8765",
   "metadata": {},
   "outputs": [],
   "source": []
  }
 ],
 "metadata": {
  "kernelspec": {
   "display_name": "Python 3 (ipykernel)",
   "language": "python",
   "name": "python3"
  },
  "language_info": {
   "codemirror_mode": {
    "name": "ipython",
    "version": 3
   },
   "file_extension": ".py",
   "mimetype": "text/x-python",
   "name": "python",
   "nbconvert_exporter": "python",
   "pygments_lexer": "ipython3",
   "version": "3.9.13"
  }
 },
 "nbformat": 4,
 "nbformat_minor": 5
}
