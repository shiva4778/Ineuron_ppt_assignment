{
  "nbformat": 4,
  "nbformat_minor": 0,
  "metadata": {
    "colab": {
      "provenance": []
    },
    "kernelspec": {
      "name": "python3",
      "display_name": "Python 3"
    },
    "language_info": {
      "name": "python"
    }
  },
  "cells": [
    {
      "cell_type": "code",
      "execution_count": 2,
      "metadata": {
        "colab": {
          "base_uri": "https://localhost:8080/"
        },
        "id": "02znkY1G9juv",
        "outputId": "5ce97e12-5807-4ef9-cd38-6e08fde307b8"
      },
      "outputs": [
        {
          "output_type": "stream",
          "name": "stderr",
          "text": [
            "[nltk_data] Downloading package punkt to /root/nltk_data...\n",
            "[nltk_data]   Unzipping tokenizers/punkt.zip.\n",
            "[nltk_data] Downloading package averaged_perceptron_tagger to\n",
            "[nltk_data]     /root/nltk_data...\n",
            "[nltk_data]   Unzipping taggers/averaged_perceptron_tagger.zip.\n"
          ]
        },
        {
          "output_type": "execute_result",
          "data": {
            "text/plain": [
              "True"
            ]
          },
          "metadata": {},
          "execution_count": 2
        }
      ],
      "source": [
        "import nltk\n",
        "nltk.download('punkt')\n",
        "nltk.download('averaged_perceptron_tagger')"
      ]
    },
    {
      "cell_type": "markdown",
      "source": [
        "Question_10"
      ],
      "metadata": {
        "id": "FC0D7aUj9s7t"
      }
    },
    {
      "cell_type": "markdown",
      "source": [
        "Write a program to count the number of verbs, nouns, pronouns, and adjectives in a given particular phrase or paragraph, and return their respective count as a dictionary.\n",
        "Note:\n",
        "\n",
        "1.   Write code comments wherever required for code\n",
        "You have to write at least 2 additional test cases in which your program will run successfully and provide an explanation for the same.\n",
        "\n"
      ],
      "metadata": {
        "id": "4lsgmEc19wI3"
      }
    },
    {
      "cell_type": "code",
      "source": [
        "from textblob import TextBlob\n",
        "\n",
        "def count_parts_of_speech(text:str)-> dict:\n",
        "    '''\n",
        "    Takes a string and returns frequency of Verbs, Nouns, Pronouns and Adjectives in the form of a dictionary\n",
        "    params:\n",
        "        text: (str) input string\n",
        "    returns:\n",
        "        dictionary of pos counts\n",
        "    '''\n",
        "    blob = TextBlob(text)             # fitting textblob object to given text\n",
        "\n",
        "    verb_count = 0\n",
        "    noun_count = 0\n",
        "    pronoun_count = 0\n",
        "    adjective_count = 0\n",
        "\n",
        "    pos_tags = blob.tags              # tagging different parts of speech\n",
        "\n",
        "    for word, pos in pos_tags:\n",
        "        if pos.startswith('VB'):\n",
        "            verb_count += 1\n",
        "        elif pos.startswith('NN'):\n",
        "            noun_count += 1\n",
        "        elif pos.startswith('PRP'):\n",
        "            pronoun_count += 1\n",
        "        elif pos.startswith('JJ'):\n",
        "            adjective_count += 1\n",
        "\n",
        "    pos_counts = {\n",
        "        'Nouns': noun_count,\n",
        "        'Pronouns': pronoun_count,\n",
        "        'Verbs': verb_count,\n",
        "        'Adjectives': adjective_count\n",
        "    }\n",
        "    return pos_counts\n",
        "\n",
        "if __name__ == \"__main__\":\n",
        "    text = input ('Enter a sentence:\\t')\n",
        "    print(count_parts_of_speech(text))"
      ],
      "metadata": {
        "colab": {
          "base_uri": "https://localhost:8080/"
        },
        "id": "InxupUCq91MT",
        "outputId": "c4f4e701-1c8f-4241-e6da-8530849199fb"
      },
      "execution_count": 3,
      "outputs": [
        {
          "output_type": "stream",
          "name": "stdout",
          "text": [
            "Enter a sentence:\t\n",
            "{'Nouns': 0, 'Pronouns': 0, 'Verbs': 0, 'Adjectives': 0}\n"
          ]
        }
      ]
    },
    {
      "cell_type": "markdown",
      "source": [
        "Test_Case 1"
      ],
      "metadata": {
        "id": "gKr6V2gB_b7E"
      }
    },
    {
      "cell_type": "code",
      "source": [
        "text = input ('Enter a sentence:\\t')\n",
        "print(count_parts_of_speech(text))"
      ],
      "metadata": {
        "id": "-eXyqfIb-DH7",
        "colab": {
          "base_uri": "https://localhost:8080/"
        },
        "outputId": "58791816-36bd-40de-a207-100d1b68d7b7"
      },
      "execution_count": 4,
      "outputs": [
        {
          "output_type": "stream",
          "name": "stdout",
          "text": [
            "Enter a sentence:\tmy name is shivanshu mall\n",
            "{'Nouns': 2, 'Pronouns': 1, 'Verbs': 1, 'Adjectives': 1}\n"
          ]
        }
      ]
    },
    {
      "cell_type": "markdown",
      "source": [
        "Test_case2\n"
      ],
      "metadata": {
        "id": "5pxRqoz3-qZg"
      }
    },
    {
      "cell_type": "code",
      "source": [
        "text = input ('Enter a sentence:\\t')\n",
        "print(count_parts_of_speech(text))"
      ],
      "metadata": {
        "colab": {
          "base_uri": "https://localhost:8080/"
        },
        "id": "Z4GNFstu-vfG",
        "outputId": "fd2c4fc4-9ac6-4f4f-f11e-f84175344667"
      },
      "execution_count": 5,
      "outputs": [
        {
          "output_type": "stream",
          "name": "stdout",
          "text": [
            "Enter a sentence:\tWork until your bank balance become like your mobile number\n",
            "{'Nouns': 4, 'Pronouns': 2, 'Verbs': 1, 'Adjectives': 1}\n"
          ]
        }
      ]
    },
    {
      "cell_type": "code",
      "source": [],
      "metadata": {
        "id": "UhxuyxYj-zx_"
      },
      "execution_count": 5,
      "outputs": []
    },
    {
      "cell_type": "code",
      "source": [],
      "metadata": {
        "id": "OOZQEwor-7Sk"
      },
      "execution_count": 5,
      "outputs": []
    },
    {
      "cell_type": "code",
      "source": [],
      "metadata": {
        "id": "PsI1ZYHC--we"
      },
      "execution_count": null,
      "outputs": []
    }
  ]
}